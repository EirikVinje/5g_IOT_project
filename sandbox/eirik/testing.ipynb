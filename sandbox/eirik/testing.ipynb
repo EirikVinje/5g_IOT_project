{
 "cells": [
  {
   "cell_type": "code",
   "execution_count": 7,
   "metadata": {},
   "outputs": [
    {
     "data": {
      "text/plain": [
       "array([[1, 2],\n",
       "       [1, 2],\n",
       "       [1, 2],\n",
       "       [1, 2],\n",
       "       [1, 2]])"
      ]
     },
     "execution_count": 7,
     "metadata": {},
     "output_type": "execute_result"
    }
   ],
   "source": [
    "import numpy as np\n",
    "\n",
    "\n",
    "a = np.array([[1, 2, 3], [1, 2, 3], [1, 2, 3], [1, 2, 3], [1, 2, 3]])\n",
    "\n",
    "a[:, [0,1]]"
   ]
  },
  {
   "cell_type": "code",
   "execution_count": 6,
   "metadata": {},
   "outputs": [
    {
     "data": {
      "text/plain": [
       "5"
      ]
     },
     "execution_count": 6,
     "metadata": {},
     "output_type": "execute_result"
    }
   ],
   "source": [
    "a = np.array([1,2,3,4,5,6,7,1,1,1,1])\n",
    "\n",
    "np.where(a == 1)[0].shape[0]"
   ]
  },
  {
   "cell_type": "code",
   "execution_count": 8,
   "metadata": {},
   "outputs": [
    {
     "name": "stdout",
     "output_type": "stream",
     "text": [
      "False\n"
     ]
    }
   ],
   "source": [
    "a = [\"a\", \"b\"]\n",
    "\n",
    "b = [\"a\", \"b\", \"c\"]\n",
    "\n",
    "if a in b:\n",
    "    print(\"True\")\n",
    "else:\n",
    "    print(\"False\")"
   ]
  },
  {
   "cell_type": "code",
   "execution_count": 6,
   "metadata": {},
   "outputs": [
    {
     "name": "stdout",
     "output_type": "stream",
     "text": [
      "a\n",
      "b\n",
      "b\n",
      "b\n"
     ]
    }
   ],
   "source": [
    "import optuna\n",
    "\n",
    "def set_feature_scales(features_to_scale : list, trial : optuna.Trial):\n",
    "\n",
    "    feature_scales = []\n",
    "\n",
    "    for feature in features_to_scale:\n",
    "        \n",
    "        if feature == ['Longitude','Latitude']:\n",
    "            # feature_scales.append(trial.suggest_int(name=\"longitude_latitude_scale\", low=5, high=15))\n",
    "            print(\"a\")\n",
    "\n",
    "        elif feature in [\"Network Type\", \"Signal Strength (dBm)\", \"Data Throughput (Mbps)\"]:\n",
    "            print(\"b\")\n",
    "        \n",
    "        else:\n",
    "            raise ValueError(f\"feature to scale : {feature} : is not in include_features\")\n",
    "\n",
    "    return feature_scales\n",
    "\n",
    "\n",
    "features_to_scale = [[\"Longitude\",\"Latitude\"], \"Network Type\", \"Signal Strength (dBm)\", \"Data Throughput (Mbps)\"]\n",
    "\n",
    "a = set_feature_scales(features_to_scale, optuna.Trial)"
   ]
  }
 ],
 "metadata": {
  "kernelspec": {
   "display_name": "5g",
   "language": "python",
   "name": "python3"
  },
  "language_info": {
   "codemirror_mode": {
    "name": "ipython",
    "version": 3
   },
   "file_extension": ".py",
   "mimetype": "text/x-python",
   "name": "python",
   "nbconvert_exporter": "python",
   "pygments_lexer": "ipython3",
   "version": "3.10.14"
  }
 },
 "nbformat": 4,
 "nbformat_minor": 2
}
